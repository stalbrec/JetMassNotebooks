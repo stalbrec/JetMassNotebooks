{
 "cells": [
  {
   "cell_type": "code",
   "execution_count": 1,
   "id": "d066d97c-b6ce-4239-a0d4-9ca2ba114c6d",
   "metadata": {},
   "outputs": [],
   "source": [
    "import json\n",
    "import correctionlib.schemav2 as cs\n",
    "import numpy as np\n",
    "import rich"
   ]
  },
  {
   "cell_type": "code",
   "execution_count": 2,
   "id": "acd959ca-fea3-4424-9f9b-514835498bb9",
   "metadata": {},
   "outputs": [],
   "source": [
    "workdir = \"/afs/desy.de/user/a/albrechs/xxl/af-cms/UHH2/10_6_28/CMSSW_10_6_28/src/UHH2/JetMass/rhalph/JMSSF_DPNote\"\n",
    "correction_import = {\n",
    "    tagger:json.load(open(f\"{workdir}/fitResults_05-07-23_noRobustHesse_range15_Strat0_rrange_{tagger}_JECVar.json\"))\n",
    "    for tagger in [\"ParticleNet\",\"Substructure\"] \n",
    "}"
   ]
  },
  {
   "cell_type": "code",
   "execution_count": 3,
   "id": "4efd6659-fab1-44f9-b37e-0fb64eea7b36",
   "metadata": {},
   "outputs": [],
   "source": [
    "sample = \"Combined\"\n",
    "years = [\"UL16preVFP\",\"UL16postVFP\", \"UL17\", \"UL18\"]\n"
   ]
  },
  {
   "cell_type": "code",
   "execution_count": 4,
   "id": "d0fef023-1b1f-4371-ad74-838bfd5ec5e1",
   "metadata": {},
   "outputs": [],
   "source": [
    "def flat_json(corr, sample, year):\n",
    "    flat_json_ =  {\n",
    "        k: np.array([p[k] for p in corr[f\"{sample}{year}\"][\"jms\"].values()]).flatten()\n",
    "        for k in [\"central\",\"edges\",\"err_up\",\"err_down\"]\n",
    "    }\n",
    "    flat_json_[\"edges\"] = np.array(sorted(set(map(int,flat_json_[\"edges\"]))))\n",
    "    return flat_json_\n"
   ]
  },
  {
   "cell_type": "code",
   "execution_count": 5,
   "id": "0c66bf0c-aeb1-4f05-8ec8-046a165e6cf2",
   "metadata": {
    "tags": []
   },
   "outputs": [],
   "source": [
    "for tagger in [\"Substructure\",\"ParticleNet\"]:\n",
    "    flat_jsons = {year:flat_json(correction_import[tagger], sample, year) for year in years}\n",
    "\n",
    "    cset = cs.CorrectionSet(\n",
    "        schema_version=2,\n",
    "        description=(\n",
    "            \"AK8 jet mass scale scale factors derived from semileptonic tt~ and fully hadronic W(qq~)+jets\"\n",
    "            f\"events using {tagger} variables for W and top jet tagging. For legacy RunII data.\"),\n",
    "        corrections=[\n",
    "            cs.Correction(\n",
    "                name=f\"jmssf_{year}\",\n",
    "                version=1,\n",
    "                description=f\"JMS scale factor using {year} data.\",\n",
    "                inputs=[\n",
    "                    cs.Variable(name=\"pt\", type=\"real\", description=\"AK8 jet transverse momentum\"),\n",
    "                    cs.Variable(name=\"unc\", type=\"string\", description=\"Total fit uncertainty\")\n",
    "                ],\n",
    "                output=cs.Variable(name=\"jms-sf\", type=\"real\", description=\"AK8 soft drop JMS scale factor\"),\n",
    "                data=cs.Category(\n",
    "                    nodetype=\"category\",\n",
    "                    input=\"unc\",\n",
    "                    content=[\n",
    "                        cs.CategoryItem(\n",
    "                            key=direction,\n",
    "                            value=cs.Binning(\n",
    "                                nodetype=\"binning\",\n",
    "                                input=\"pt\",\n",
    "                                edges=list(flat_jsons[year][\"edges\"]),\n",
    "                                content=list(flat_jsons[year][\"central\"]+flat_jsons[year][f\"err_{direction}\"]),\n",
    "                                flow=\"clamp\"\n",
    "                            )    \n",
    "                        )\n",
    "                        for direction in [\"up\", \"down\"]\n",
    "                    ],\n",
    "                    default=cs.Binning(\n",
    "                        nodetype=\"binning\",\n",
    "                        input=\"pt\",\n",
    "                        edges=list(flat_jsons[year][\"edges\"]),\n",
    "                        content=list(flat_jsons[year][\"central\"]),\n",
    "                        flow=\"clamp\"\n",
    "                    )    \n",
    "                )\n",
    "            )\n",
    "            for year in years\n",
    "        ]\n",
    "    )\n",
    "    with open(f\"{tagger}_jmssf.json\",\"w\") as json_fout:\n",
    "        json_fout.write(cset.json(exclude_unset=True))"
   ]
  },
  {
   "cell_type": "code",
   "execution_count": 6,
   "id": "85a87005-afac-472c-a932-9dbb83758f40",
   "metadata": {},
   "outputs": [],
   "source": [
    "import correctionlib\n",
    "substr_cset = correctionlib.CorrectionSet.from_file(\"Substructure_jmssf.json\")\n"
   ]
  },
  {
   "cell_type": "code",
   "execution_count": 7,
   "id": "7910a002-99a7-4fda-bec6-aff2ce49cd18",
   "metadata": {},
   "outputs": [
    {
     "name": "stdout",
     "output_type": "stream",
     "text": [
      "UL16preVFP\n",
      "minimum 0.26 %\n",
      "maximum 2.13 %\n",
      "UL16postVFP\n",
      "minimum 0.06 %\n",
      "maximum 1.01 %\n",
      "UL17\n",
      "minimum 0.03 %\n",
      "maximum 0.81 %\n",
      "UL18\n",
      "minimum 0.14 %\n",
      "maximum 5.73 %\n"
     ]
    }
   ],
   "source": [
    "for year in years:\n",
    "    print(year)\n",
    "    print(\"minimum\",round(100*(min([abs(1.-substr_cset[f\"jmssf_{year}\"].evaluate(float(pt),\"\")) for pt in [1,250,350,450,600,850,1250]])),2),\"%\")\n",
    "    print(\"maximum\",round(100*(max([abs(1.-substr_cset[f\"jmssf_{year}\"].evaluate(float(pt),\"\")) for pt in [1,250,350,450,600,850,1250]])),2),\"%\")"
   ]
  },
  {
   "cell_type": "code",
   "execution_count": null,
   "id": "6bd7425d-8ce2-4a96-972d-50ef74b14818",
   "metadata": {},
   "outputs": [],
   "source": []
  }
 ],
 "metadata": {
  "kernelspec": {
   "display_name": "coffea",
   "language": "python",
   "name": "coffea"
  },
  "language_info": {
   "codemirror_mode": {
    "name": "ipython",
    "version": 3
   },
   "file_extension": ".py",
   "mimetype": "text/x-python",
   "name": "python",
   "nbconvert_exporter": "python",
   "pygments_lexer": "ipython3",
   "version": "3.9.13"
  }
 },
 "nbformat": 4,
 "nbformat_minor": 5
}
